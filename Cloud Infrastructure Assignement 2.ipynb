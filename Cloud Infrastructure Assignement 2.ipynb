{
 "cells": [
  {
   "cell_type": "markdown",
   "metadata": {},
   "source": [
    "# Question 1 - (1)"
   ]
  },
  {
   "cell_type": "code",
   "execution_count": 22,
   "metadata": {},
   "outputs": [],
   "source": [
    "from itertools import combinations\n",
    "# Generate all the combinations for nCk\n",
    "def listQuorum(n,k):\n",
    "    votingSet = [set(process) for process in list(combinations([i for i in range(1,n+1)],k))]\n",
    "    vSize=len(votingSet)\n",
    "    i=0\n",
    "    while(i<vSize):\n",
    "        l1=[]\n",
    "        for j in range(i+1, vSize):\n",
    "            if len(votingSet[i].intersection(votingSet[j]))!=1:\n",
    "                l1.append(j)\n",
    "    \n",
    "        l1.reverse()\n",
    "        for x in l1:\n",
    "            votingSet.pop(x)\n",
    "        i=i+1\n",
    "        vSize=len(votingSet)\n",
    "    return votingSet\n"
   ]
  },
  {
   "cell_type": "code",
   "execution_count": 23,
   "metadata": {},
   "outputs": [
    {
     "data": {
      "text/plain": [
       "[{1, 2, 3}, {1, 4, 5}]"
      ]
     },
     "execution_count": 23,
     "metadata": {},
     "output_type": "execute_result"
    }
   ],
   "source": [
    "listQuorum(5,3)"
   ]
  },
  {
   "cell_type": "code",
   "execution_count": 24,
   "metadata": {},
   "outputs": [
    {
     "data": {
      "text/plain": [
       "[{1, 2}, {1, 3}, {1, 4}]"
      ]
     },
     "execution_count": 24,
     "metadata": {},
     "output_type": "execute_result"
    }
   ],
   "source": [
    "listQuorum(4,2)"
   ]
  },
  {
   "cell_type": "code",
   "execution_count": 25,
   "metadata": {},
   "outputs": [
    {
     "data": {
      "text/plain": [
       "[{1, 2, 3}, {1, 4, 5}, {1, 6, 7}, {2, 4, 6}, {2, 5, 7}, {3, 4, 7}, {3, 5, 6}]"
      ]
     },
     "execution_count": 25,
     "metadata": {},
     "output_type": "execute_result"
    }
   ],
   "source": [
    "listQuorum(8,3)"
   ]
  },
  {
   "cell_type": "code",
   "execution_count": 26,
   "metadata": {},
   "outputs": [
    {
     "data": {
      "text/plain": [
       "[{1, 2, 3, 4, 5},\n",
       " {1, 6, 7, 8, 9},\n",
       " {1, 10, 11, 12, 13},\n",
       " {1, 14, 15, 16, 17},\n",
       " {2, 6, 10, 14, 18},\n",
       " {2, 7, 11, 15, 19},\n",
       " {2, 8, 12, 16, 20},\n",
       " {3, 6, 11, 17, 20},\n",
       " {3, 7, 13, 16, 18},\n",
       " {3, 9, 12, 14, 19}]"
      ]
     },
     "execution_count": 26,
     "metadata": {},
     "output_type": "execute_result"
    }
   ],
   "source": [
    "listQuorum(20,5)"
   ]
  },
  {
   "cell_type": "markdown",
   "metadata": {},
   "source": [
    "# Question 1 - (2)"
   ]
  },
  {
   "cell_type": "code",
   "execution_count": 27,
   "metadata": {},
   "outputs": [],
   "source": [
    "def MaekawaAlgorithm(n, k , pi):\n",
    "\n",
    "    Quorum = listQuorum(n,k)\n",
    "\n",
    "    voted=['FALSE' for x in range(n)]\n",
    "    state=['Released' for x in range(n)]\n",
    "\n",
    "    #for Pi to enter citical region\n",
    "\n",
    "    state[pi]='WANTED'\n",
    "\n",
    "    #Find the voting list of Pi\n",
    "    for subset in Quorum:\n",
    "        if pi in subset:\n",
    "            listVoting=subset\n",
    "            break\n",
    "\n",
    "    #Multicast request to all process in Vi\n",
    "    print(f\" Process {pi} sent the request to processes in voting list {listVoting}\")\n",
    "\n",
    "    #Wait until(number of replies recieved =K)\n",
    "    count=0\n",
    "    waitingList=[]\n",
    "\n",
    "    for process in listVoting:\n",
    "        if state[process]=='HELD' or voted[process]=='TRUE':\n",
    "            waitingList.append(process)\n",
    "        else:\n",
    "            voted[process]='TRUE'\n",
    "            count=count+1\n",
    "\n",
    "\n",
    "    if count==k:\n",
    "        print(f\" Process {pi} entered into Critical Section\")\n",
    "        state[pi]='HELD'\n",
    "\n",
    "\n",
    "    #for Pi to exit the critical section\n",
    "    state[pi]='RELEASED'\n",
    "    print(f\" Multicast release to all processes in voting list {listVoting}\")\n",
    "\n",
    "    #On Reciept of a release from Pi at Pj\n",
    "    for x in listVoting:\n",
    "        if len(waitingList)!=0:\n",
    "            Pw= waitingList.pop(0)\n",
    "            voted[Pw]='TRUE'\n",
    "        else:\n",
    "            voted[x]='FALSE'\n",
    "    "
   ]
  },
  {
   "cell_type": "code",
   "execution_count": 28,
   "metadata": {},
   "outputs": [
    {
     "name": "stdout",
     "output_type": "stream",
     "text": [
      " Process 6 sent the request to processes in voting list {1, 6, 7, 8, 9}\n",
      " Process 6 entered into Critical Section\n",
      " Multicast release to all processes in voting list {1, 6, 7, 8, 9}\n"
     ]
    }
   ],
   "source": [
    "MaekawaAlgorithm(20, 5 , 6)"
   ]
  },
  {
   "cell_type": "markdown",
   "metadata": {},
   "source": [
    "# Question 1 - (3)"
   ]
  },
  {
   "cell_type": "markdown",
   "metadata": {},
   "source": [
    "Deadlock will occur when process A is waiting for process B and process B is waiting for process A.\n",
    "For example.\n",
    "\n",
    "Process 6 want to go in Critical session wand waiting for approval in quorum {1, 6, 7, 8, 9}\n",
    "\n",
    "Process 8 also want to go in Critical session wand waiting for approval in quorum {2, 8, 12, 16, 20}\n",
    "\n",
    "Process 7 also want to go in Critical session wand waiting for approval in quorum {3, 7, 13, 16, 18}\n",
    "\n",
    "Since all three process are dependent on each other deadlock will happened\n"
   ]
  },
  {
   "cell_type": "markdown",
   "metadata": {},
   "source": [
    "# Question 2"
   ]
  },
  {
   "cell_type": "code",
   "execution_count": 29,
   "metadata": {},
   "outputs": [],
   "source": [
    "import pandas as pd\n",
    "import numpy as np"
   ]
  },
  {
   "cell_type": "code",
   "execution_count": 30,
   "metadata": {},
   "outputs": [],
   "source": [
    "data=pd.read_csv('C:\\\\Users\\\\manisha\\\\Desktop\\\\Data Science\\\\assignment2_q2.csv')"
   ]
  },
  {
   "cell_type": "code",
   "execution_count": 31,
   "metadata": {},
   "outputs": [
    {
     "data": {
      "text/html": [
       "<div>\n",
       "<style scoped>\n",
       "    .dataframe tbody tr th:only-of-type {\n",
       "        vertical-align: middle;\n",
       "    }\n",
       "\n",
       "    .dataframe tbody tr th {\n",
       "        vertical-align: top;\n",
       "    }\n",
       "\n",
       "    .dataframe thead th {\n",
       "        text-align: right;\n",
       "    }\n",
       "</style>\n",
       "<table border=\"1\" class=\"dataframe\">\n",
       "  <thead>\n",
       "    <tr style=\"text-align: right;\">\n",
       "      <th></th>\n",
       "      <th>Machine 0</th>\n",
       "      <th>Machine 1</th>\n",
       "      <th>Machine 2</th>\n",
       "      <th>Machine 3</th>\n",
       "      <th>Machine 4</th>\n",
       "      <th>Machine 5</th>\n",
       "      <th>Machine 6</th>\n",
       "    </tr>\n",
       "  </thead>\n",
       "  <tbody>\n",
       "    <tr>\n",
       "      <th>0</th>\n",
       "      <td>13</td>\n",
       "      <td>79</td>\n",
       "      <td>23</td>\n",
       "      <td>71</td>\n",
       "      <td>60</td>\n",
       "      <td>27</td>\n",
       "      <td>2</td>\n",
       "    </tr>\n",
       "    <tr>\n",
       "      <th>1</th>\n",
       "      <td>31</td>\n",
       "      <td>13</td>\n",
       "      <td>14</td>\n",
       "      <td>94</td>\n",
       "      <td>60</td>\n",
       "      <td>61</td>\n",
       "      <td>57</td>\n",
       "    </tr>\n",
       "    <tr>\n",
       "      <th>2</th>\n",
       "      <td>17</td>\n",
       "      <td>1</td>\n",
       "      <td>-</td>\n",
       "      <td>23</td>\n",
       "      <td>36</td>\n",
       "      <td>8</td>\n",
       "      <td>86</td>\n",
       "    </tr>\n",
       "    <tr>\n",
       "      <th>3</th>\n",
       "      <td>19</td>\n",
       "      <td>28</td>\n",
       "      <td>10</td>\n",
       "      <td>4</td>\n",
       "      <td>58</td>\n",
       "      <td>73</td>\n",
       "      <td>40</td>\n",
       "    </tr>\n",
       "    <tr>\n",
       "      <th>4</th>\n",
       "      <td>94</td>\n",
       "      <td>75</td>\n",
       "      <td>-</td>\n",
       "      <td>58</td>\n",
       "      <td>-</td>\n",
       "      <td>68</td>\n",
       "      <td>46</td>\n",
       "    </tr>\n",
       "    <tr>\n",
       "      <th>5</th>\n",
       "      <td>8</td>\n",
       "      <td>24</td>\n",
       "      <td>3</td>\n",
       "      <td>32</td>\n",
       "      <td>4</td>\n",
       "      <td>94</td>\n",
       "      <td>89</td>\n",
       "    </tr>\n",
       "    <tr>\n",
       "      <th>6</th>\n",
       "      <td>10</td>\n",
       "      <td>57</td>\n",
       "      <td>13</td>\n",
       "      <td>1</td>\n",
       "      <td>92</td>\n",
       "      <td>75</td>\n",
       "      <td>29</td>\n",
       "    </tr>\n",
       "    <tr>\n",
       "      <th>7</th>\n",
       "      <td>80</td>\n",
       "      <td>17</td>\n",
       "      <td>38</td>\n",
       "      <td>40</td>\n",
       "      <td>66</td>\n",
       "      <td>25</td>\n",
       "      <td>88</td>\n",
       "    </tr>\n",
       "  </tbody>\n",
       "</table>\n",
       "</div>"
      ],
      "text/plain": [
       "   Machine 0  Machine 1 Machine 2  Machine 3 Machine 4  Machine 5  Machine 6\n",
       "0         13         79        23         71        60         27          2\n",
       "1         31         13        14         94        60         61         57\n",
       "2         17          1         -         23        36          8         86\n",
       "3         19         28        10          4        58         73         40\n",
       "4         94         75         -         58         -         68         46\n",
       "5          8         24         3         32         4         94         89\n",
       "6         10         57        13          1        92         75         29\n",
       "7         80         17        38         40        66         25         88"
      ]
     },
     "execution_count": 31,
     "metadata": {},
     "output_type": "execute_result"
    }
   ],
   "source": [
    "data"
   ]
  },
  {
   "cell_type": "code",
   "execution_count": 32,
   "metadata": {},
   "outputs": [
    {
     "data": {
      "text/html": [
       "<div>\n",
       "<style scoped>\n",
       "    .dataframe tbody tr th:only-of-type {\n",
       "        vertical-align: middle;\n",
       "    }\n",
       "\n",
       "    .dataframe tbody tr th {\n",
       "        vertical-align: top;\n",
       "    }\n",
       "\n",
       "    .dataframe thead th {\n",
       "        text-align: right;\n",
       "    }\n",
       "</style>\n",
       "<table border=\"1\" class=\"dataframe\">\n",
       "  <thead>\n",
       "    <tr style=\"text-align: right;\">\n",
       "      <th></th>\n",
       "      <th>Machine 0</th>\n",
       "      <th>Machine 1</th>\n",
       "      <th>Machine 2</th>\n",
       "      <th>Machine 3</th>\n",
       "      <th>Machine 4</th>\n",
       "      <th>Machine 5</th>\n",
       "      <th>Machine 6</th>\n",
       "    </tr>\n",
       "  </thead>\n",
       "  <tbody>\n",
       "    <tr>\n",
       "      <th>0</th>\n",
       "      <td>13</td>\n",
       "      <td>79</td>\n",
       "      <td>23</td>\n",
       "      <td>71</td>\n",
       "      <td>60</td>\n",
       "      <td>27</td>\n",
       "      <td>2</td>\n",
       "    </tr>\n",
       "    <tr>\n",
       "      <th>1</th>\n",
       "      <td>31</td>\n",
       "      <td>13</td>\n",
       "      <td>14</td>\n",
       "      <td>94</td>\n",
       "      <td>60</td>\n",
       "      <td>61</td>\n",
       "      <td>57</td>\n",
       "    </tr>\n",
       "    <tr>\n",
       "      <th>2</th>\n",
       "      <td>17</td>\n",
       "      <td>1</td>\n",
       "      <td>999</td>\n",
       "      <td>23</td>\n",
       "      <td>36</td>\n",
       "      <td>8</td>\n",
       "      <td>86</td>\n",
       "    </tr>\n",
       "    <tr>\n",
       "      <th>3</th>\n",
       "      <td>19</td>\n",
       "      <td>28</td>\n",
       "      <td>10</td>\n",
       "      <td>4</td>\n",
       "      <td>58</td>\n",
       "      <td>73</td>\n",
       "      <td>40</td>\n",
       "    </tr>\n",
       "    <tr>\n",
       "      <th>4</th>\n",
       "      <td>94</td>\n",
       "      <td>75</td>\n",
       "      <td>999</td>\n",
       "      <td>58</td>\n",
       "      <td>999</td>\n",
       "      <td>68</td>\n",
       "      <td>46</td>\n",
       "    </tr>\n",
       "    <tr>\n",
       "      <th>5</th>\n",
       "      <td>8</td>\n",
       "      <td>24</td>\n",
       "      <td>3</td>\n",
       "      <td>32</td>\n",
       "      <td>4</td>\n",
       "      <td>94</td>\n",
       "      <td>89</td>\n",
       "    </tr>\n",
       "    <tr>\n",
       "      <th>6</th>\n",
       "      <td>10</td>\n",
       "      <td>57</td>\n",
       "      <td>13</td>\n",
       "      <td>1</td>\n",
       "      <td>92</td>\n",
       "      <td>75</td>\n",
       "      <td>29</td>\n",
       "    </tr>\n",
       "    <tr>\n",
       "      <th>7</th>\n",
       "      <td>80</td>\n",
       "      <td>17</td>\n",
       "      <td>38</td>\n",
       "      <td>40</td>\n",
       "      <td>66</td>\n",
       "      <td>25</td>\n",
       "      <td>88</td>\n",
       "    </tr>\n",
       "  </tbody>\n",
       "</table>\n",
       "</div>"
      ],
      "text/plain": [
       "   Machine 0  Machine 1  Machine 2  Machine 3  Machine 4  Machine 5  Machine 6\n",
       "0         13         79         23         71         60         27          2\n",
       "1         31         13         14         94         60         61         57\n",
       "2         17          1        999         23         36          8         86\n",
       "3         19         28         10          4         58         73         40\n",
       "4         94         75        999         58        999         68         46\n",
       "5          8         24          3         32          4         94         89\n",
       "6         10         57         13          1         92         75         29\n",
       "7         80         17         38         40         66         25         88"
      ]
     },
     "execution_count": 32,
     "metadata": {},
     "output_type": "execute_result"
    }
   ],
   "source": [
    "data=data.replace('-', 999)\n",
    "data=data.astype('int64')\n",
    "data"
   ]
  },
  {
   "cell_type": "code",
   "execution_count": 33,
   "metadata": {},
   "outputs": [],
   "source": [
    "def MinMinAlgorithm(df):\n",
    "    data=df.copy()\n",
    "    numIter=data.shape[0]\n",
    "    num_cols=data.shape[1]\n",
    "    \n",
    "    for x in range(numIter):\n",
    "        num_rows=data.shape[0]\n",
    "        min_time=data.iloc[0,0]\n",
    "        min_machine=data.columns[0]\n",
    "        min_task=data.index[0]\n",
    "        for i in range(num_rows):  \n",
    "            for j in range(num_cols):\n",
    "                if data.iloc[i,j]<min_time:\n",
    "                    min_time=data.iloc[i,j]\n",
    "                    min_machine=data.columns[j]\n",
    "                    min_task=data.index[i]\n",
    "        print(f\"Assign Task {min_task} to {min_machine} which has minimum completetion time {min_time}\")\n",
    "        data.drop(min_task, axis=0, inplace=True)\n",
    "        data[min_machine] = data[min_machine].apply(lambda val: val + min_time)   "
   ]
  },
  {
   "cell_type": "code",
   "execution_count": 34,
   "metadata": {},
   "outputs": [
    {
     "name": "stdout",
     "output_type": "stream",
     "text": [
      "Assign Task 2 to Machine 1 which has minimum completetion time 1\n",
      "Assign Task 6 to Machine 3 which has minimum completetion time 1\n",
      "Assign Task 0 to Machine 6 which has minimum completetion time 2\n",
      "Assign Task 5 to Machine 2 which has minimum completetion time 3\n",
      "Assign Task 3 to Machine 3 which has minimum completetion time 5\n",
      "Assign Task 1 to Machine 1 which has minimum completetion time 14\n",
      "Assign Task 7 to Machine 5 which has minimum completetion time 25\n",
      "Assign Task 4 to Machine 6 which has minimum completetion time 48\n"
     ]
    }
   ],
   "source": [
    "MinMinAlgorithm(data)"
   ]
  },
  {
   "cell_type": "code",
   "execution_count": 35,
   "metadata": {},
   "outputs": [],
   "source": [
    "def MaxMinAlgorithm(df):\n",
    "    data=df.copy()\n",
    "    numIter=data.shape[0]\n",
    "    num_cols=data.shape[1]\n",
    "    \n",
    "    for x in range(numIter):\n",
    "        num_rows=data.shape[0]\n",
    "        temp_list=[]\n",
    "        for i in range(num_rows):  \n",
    "            min_time=data.iloc[i,0]\n",
    "            min_machine=data.columns[0]\n",
    "            min_task=data.index[i]\n",
    "            for j in range(num_cols):\n",
    "                if data.iloc[i,j]<min_time:\n",
    "                    min_time=data.iloc[i,j]\n",
    "                    min_machine=data.columns[j]\n",
    "                    min_task=data.index[i]\n",
    "            temp_list.append((min_time, min_machine,min_task))\n",
    "        temp_list=sorted(temp_list, key=lambda x: x[0], reverse=True)\n",
    "        print(f\"Assign Task {temp_list[0][2]} to {temp_list[0][1]} which has minimum completetion time {temp_list[0][0]}\")\n",
    "        data.drop(temp_list[0][2], axis=0, inplace=True)\n",
    "        data[temp_list[0][1]] = data[temp_list[0][1]].apply(lambda val: val + temp_list[0][0])"
   ]
  },
  {
   "cell_type": "code",
   "execution_count": 36,
   "metadata": {},
   "outputs": [
    {
     "name": "stdout",
     "output_type": "stream",
     "text": [
      "Assign Task 4 to Machine 6 which has minimum completetion time 46\n",
      "Assign Task 7 to Machine 1 which has minimum completetion time 17\n",
      "Assign Task 1 to Machine 2 which has minimum completetion time 14\n",
      "Assign Task 0 to Machine 0 which has minimum completetion time 13\n",
      "Assign Task 2 to Machine 5 which has minimum completetion time 8\n",
      "Assign Task 3 to Machine 3 which has minimum completetion time 4\n",
      "Assign Task 6 to Machine 3 which has minimum completetion time 5\n",
      "Assign Task 5 to Machine 4 which has minimum completetion time 4\n"
     ]
    }
   ],
   "source": [
    "MaxMinAlgorithm(data)"
   ]
  },
  {
   "cell_type": "code",
   "execution_count": 37,
   "metadata": {},
   "outputs": [],
   "source": [
    "def SufferageAlgorithm(df):\n",
    "    data=df.copy()\n",
    "    numIter=data.shape[0]\n",
    "    num_cols=data.shape[1]\n",
    "    \n",
    "    for x in range(numIter):\n",
    "        num_rows=data.shape[0]\n",
    "        temp_list=[]\n",
    "        for i in range(num_rows):  \n",
    "            min_time_1=data.iloc[i,0]\n",
    "            min_time_2=data.iloc[i,1]\n",
    "            min_machine=data.columns[0]\n",
    "            min_task=data.index[i]\n",
    "            for j in range(1, num_cols):\n",
    "                if data.iloc[i,j]<min_time_1:\n",
    "                    min_time_2=min_time_1.copy()\n",
    "                    min_time_1=data.iloc[i,j].copy()\n",
    "                    min_machine=data.columns[j]\n",
    "                    min_task=data.index[i]\n",
    "                elif data.iloc[i,j] < min_time_2:\n",
    "                    min_time_2=data.iloc[i,j].copy()\n",
    "            temp_list.append((min_time_1, min_machine,min_task,(min_time_2 - min_time_1)))\n",
    "            temp_list=sorted(temp_list, key=lambda x: x[3], reverse=True)\n",
    "        print(f\"Assign Task {temp_list[0][2]} to {temp_list[0][1]} which has minimum completetion time {temp_list[0][0]}\")\n",
    "        data.drop(temp_list[0][2], axis=0, inplace=True)\n",
    "        data[temp_list[0][1]] = data[temp_list[0][1]].apply(lambda val: val + temp_list[0][0])"
   ]
  },
  {
   "cell_type": "code",
   "execution_count": 38,
   "metadata": {},
   "outputs": [
    {
     "name": "stdout",
     "output_type": "stream",
     "text": [
      "Assign Task 4 to Machine 6 which has minimum completetion time 46\n",
      "Assign Task 0 to Machine 0 which has minimum completetion time 13\n",
      "Assign Task 6 to Machine 3 which has minimum completetion time 1\n",
      "Assign Task 7 to Machine 1 which has minimum completetion time 17\n",
      "Assign Task 1 to Machine 2 which has minimum completetion time 14\n",
      "Assign Task 3 to Machine 3 which has minimum completetion time 5\n",
      "Assign Task 5 to Machine 4 which has minimum completetion time 4\n",
      "Assign Task 2 to Machine 5 which has minimum completetion time 8\n"
     ]
    }
   ],
   "source": [
    "SufferageAlgorithm(data)"
   ]
  }
 ],
 "metadata": {
  "kernelspec": {
   "display_name": "Python 3",
   "language": "python",
   "name": "python3"
  },
  "language_info": {
   "codemirror_mode": {
    "name": "ipython",
    "version": 3
   },
   "file_extension": ".py",
   "mimetype": "text/x-python",
   "name": "python",
   "nbconvert_exporter": "python",
   "pygments_lexer": "ipython3",
   "version": "3.7.1"
  }
 },
 "nbformat": 4,
 "nbformat_minor": 2
}
